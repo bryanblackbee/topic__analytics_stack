{
 "cells": [
  {
   "cell_type": "markdown",
   "metadata": {},
   "source": [
    "# Chapter 3: Data Modelling for Analytics"
   ]
  },
  {
   "cell_type": "markdown",
   "metadata": {},
   "source": [
    "## What is data modelling and why do you need it?\n",
    "\n",
    "In many organisations, data analysts serve the role to translate business logic into data logic. Given a business query from a BU, a data analyst translates that into data logic, applying transformations & filtering to production data to obtain the result.\n",
    "\n",
    "The transformations & filtering needs to occur because data stored in systems is often not ready to be queried for analytics solutions. \n",
    "\n",
    "- Data is stored in normalised tables\n",
    "- Data often requires cleaning before analysis (to filter out test data, for example)\n",
    "- Rules need to be applied to filter out flagged data, conditions etc.\n",
    "- Usually, 2 or more objects (e.g. Sales & Customer, Order Basket & Item) need to be combined / melded in order to produce meaningful analytics results.\n",
    "\n",
    "Data modelling is important as it translates business logic easily into data logic, so metrics can be obtained efficiently, and in some cases, in a self-service fashion. It is defined as the process of mapping raw data into data in a format that can be easily understood by business users. The common use cases for business users include:\n",
    "- KPI measurement & reporting\n",
    "- Data Discoverability / Exploration"
   ]
  },
  {
   "cell_type": "markdown",
   "metadata": {},
   "source": [
    "## Key Concept (KC) 1: The Data Model\n",
    "\n",
    "The data model is an abstract view on top of a physical, persistent database table that you can manipulate without affecting this underlying table. A data model usually consists of:\n",
    "\n",
    "1. The source (for lineage)\n",
    "2. Metadata storage (description of columns)"
   ]
  },
  {
   "cell_type": "markdown",
   "metadata": {},
   "source": [
    "## Key Concept 2: Relationship Mapping\n",
    "\n",
    "Relationship mapping is similar to defining foreign keys across models. In this case, however we define relationships across 2 data models (KC1). We use the `JOIN...ON` syntax from SQL."
   ]
  },
  {
   "cell_type": "markdown",
   "metadata": {},
   "source": [
    "## Key Concept 3: Custom Field Logic\n",
    "\n",
    "Generally, in a data model, we can define custom fields that are derived fields from the original columns of the data model. For example, we can define flags based on fields & conditionals:\n",
    "\n",
    "- `CASE WHEN POINTS >= 1000 THEN GOLD WHEN POINTS > 500 THEN SILVER ELSE GREEN AS MEMBERSHIP` a calculated field\n",
    "- `TOTALPRICE - GST AS GROSSTOTAL` a calculated value from 2 fields\n",
    "\n",
    "Here, too, we use the common analytics functions e.g. sum ( $\\Sigma$ ), mean ( $\\mu$ ), standard deviation  ( $\\sigma^2$ ) and higher moments, minimum, maximum, quartiles / deciles / percentiles and others."
   ]
  },
  {
   "cell_type": "markdown",
   "metadata": {},
   "source": [
    "## Key Concept 4: Models built on top of other models\n",
    "\n",
    "Usually, we want to obtain a model from 2 or more models. For example, in the calculation of basket value by customer segment, we combine the `sales` model with the `customer` model. In this case, we simply create a new `sales_per_customer` model with the above models simply using a `select...join...on...` SQL statement.\n",
    "\n",
    "Since this is just an SQL statement, this model is always updated when the underlying models (or tables) are updated. These models are known as transformed models or derived models."
   ]
  },
  {
   "cell_type": "markdown",
   "metadata": {},
   "source": [
    "## Key Concept 5: Model Persistence (or materialised view)\n",
    "\n",
    "Here, we can store the updated models from the above steps for easy querying. You can define:\n",
    "\n",
    "- the refresh schedule\n",
    "- the persistence flavour (full vs. append vs. incremental)\n",
    "\n",
    "for each persisted model."
   ]
  },
  {
   "cell_type": "markdown",
   "metadata": {},
   "source": [
    "## The Output\n",
    "\n",
    "In the output, the business users simply get a simple table for their required metrics, and can filter / sort / explore the dataset and use it to solve business questions, or perform optimisation (for revenue, profit, customer base expansion etc.)"
   ]
  }
 ],
 "metadata": {
  "kernelspec": {
   "display_name": "Python 3",
   "language": "python",
   "name": "python3"
  },
  "language_info": {
   "codemirror_mode": {
    "name": "ipython",
    "version": 3
   },
   "file_extension": ".py",
   "mimetype": "text/x-python",
   "name": "python",
   "nbconvert_exporter": "python",
   "pygments_lexer": "ipython3",
   "version": "3.8.1"
  }
 },
 "nbformat": 4,
 "nbformat_minor": 4
}
