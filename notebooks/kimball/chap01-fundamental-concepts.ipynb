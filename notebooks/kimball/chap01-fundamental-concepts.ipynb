{
 "cells": [
  {
   "cell_type": "markdown",
   "metadata": {},
   "source": [
    "# Fundamental Concepts\n",
    "\n",
    "**Gather Business Requirements**\n",
    "\n",
    "Before starting a data modelling effort the team needs to:\n",
    "\n",
    "1. define objectives of the business based on KPIs, issues, decision making & analytics needs.\n",
    "2. capture data behaviour from source system experts, including performing high-level data profiling"
   ]
  },
  {
   "cell_type": "markdown",
   "metadata": {},
   "source": [
    "**Dimensional Modelling Design Process**\n",
    "\n",
    "The four steps are:\n",
    "\n",
    "1. Select the business process\n",
    "A business process is the operational activity performed by the organisation. They generate or capture performance metrics that translate to facts in a fact table. Most fact tables focus on the results of one business process.\n",
    "\n",
    "2. Declare the grain\n",
    "The grain establishes exactly what a single row in a single fact table represents. This is selected before choosing dimensions or facts because every dimension or fact must be consistent with the grain. Atomic grain is the lowest level at which data is captured by a given business process. \n",
    "\n",
    "3. Identify the dimensions\n",
    "Dimensions provide the descriptive (who, what where, when, why, how) context surrounding a business process event or step. These descriptive attributes are used to filter / slice & dice data. A dimension should be single-valued when joined with its associated fact table. They are the entry point to most business analysis, and hence drive greatly the user's BI experience.\n",
    "\n",
    "4. Identify the facts\n",
    "Facts are used for measurements that result from the business process. Each fact row has a one-to-one relationship to a measurement event as described by the fact table's grain. Hence, a fact table corresponds to a physical, observable event, not the demands of a particular report. Within a fact table, only facts consistent with the declared grain are allowed.\n"
   ]
  },
  {
   "cell_type": "markdown",
   "metadata": {},
   "source": [
    "**Star Schemas and OLAP cubes**\n",
    "\n",
    "Star schemas are dimensional structures deployed in a RDBMS that consist of fact tables linked to associated dimension tables via primary / foreign key relationships. An online analytical processing (OLAP) cube is a dimensional structure implemented in a multi-dimensional database. It is equivalent to a relationsal star schema. An OLAP cube contains dimensional attributes and facts, but is accessed through languages with more analytic capabilities than SQL. OLAP cubes are part of these basic techniques because an OLAP cube is often the final step in the deployment of a Data Warehouse / Business Intelligence system, or may exist as an aggregate structure based on a more atomic relational star schema."
   ]
  },
  {
   "cell_type": "markdown",
   "metadata": {},
   "source": [
    "**Grace Extensions to Dimensional Modelling**\n",
    "\n",
    "Dimensional models are resilient when data relationships change. All changes should be implemented such that no query needs to change, and the results of the queries don't change too.\n",
    "\n",
    "- **FACT** : Facts consistent with the grain of an existing fact table can be added by creating new columns\n",
    "- **DIMENSION** : Attributes can be added to an existing dimension table by creating new columns\n",
    "- **GRAIN**: The grain of a fact table can be made more atomic by adding attributes to the existing dimension table, and then restating the fact table at a lower grain, being careful to preserve the existing column names in the fact & dimension tables"
   ]
  }
 ],
 "metadata": {
  "kernelspec": {
   "display_name": "Python 3",
   "language": "python",
   "name": "python3"
  },
  "language_info": {
   "codemirror_mode": {
    "name": "ipython",
    "version": 3
   },
   "file_extension": ".py",
   "mimetype": "text/x-python",
   "name": "python",
   "nbconvert_exporter": "python",
   "pygments_lexer": "ipython3",
   "version": "3.8.1"
  }
 },
 "nbformat": 4,
 "nbformat_minor": 4
}
